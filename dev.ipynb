{
 "cells": [
  {
   "cell_type": "code",
   "execution_count": 1,
   "metadata": {},
   "outputs": [],
   "source": [
    "import cv2\n",
    "import numpy as np\n",
    "import torch\n",
    "from fastsam import FastSAM, FastSAMPrompt\n",
    "import time\n",
    "import matplotlib.pyplot as plt\n",
    "import random\n",
    "from PIL import Image\n",
    "import clip\n"
   ]
  },
  {
   "cell_type": "code",
   "execution_count": 2,
   "metadata": {},
   "outputs": [
    {
     "name": "stdout",
     "output_type": "stream",
     "text": [
      "3024 4032\n"
     ]
    }
   ],
   "source": [
    "\n",
    "DEVICE = 'cuda' if torch.cuda.is_available() else 'cpu'\n",
    "model = FastSAM('/home/alexlin/FastSAM-x.pt')\n",
    "\n",
    "image_path = '/home/alexlin/FastSAM/examples/farm.jpg'\n",
    "image = cv2.imread(image_path)\n",
    "height, width, _ = image.shape\n",
    "print(height, width)\n",
    "\n"
   ]
  },
  {
   "cell_type": "code",
   "execution_count": 3,
   "metadata": {},
   "outputs": [
    {
     "name": "stdout",
     "output_type": "stream",
     "text": [
      "[          0         255         255]\n"
     ]
    },
    {
     "name": "stderr",
     "output_type": "stream",
     "text": [
      "/tmp/ipykernel_4013/715969173.py:3: MatplotlibDeprecationWarning: The get_cmap function was deprecated in Matplotlib 3.7 and will be removed two minor releases later. Use ``matplotlib.colormaps[name]`` or ``matplotlib.colormaps.get_cmap(obj)`` instead.\n",
      "  colormap = cm.get_cmap('cool')\n"
     ]
    }
   ],
   "source": [
    "import matplotlib.cm as cm\n",
    "\n",
    "colormap = cm.get_cmap('cool')\n",
    "\n",
    "# interpolate color from 0.0 to 1.0\n",
    "def get_color(value):\n",
    "    value = min(1.0, max(0.0, value))\n",
    "    return np.array((colormap(value))[:3]) * 255\n",
    "\n",
    "print(get_color(0))"
   ]
  },
  {
   "cell_type": "code",
   "execution_count": 4,
   "metadata": {},
   "outputs": [
    {
     "name": "stderr",
     "output_type": "stream",
     "text": [
      "/home/alexlin/.local/lib/python3.8/site-packages/pandas/core/computation/expressions.py:20: UserWarning: Pandas requires version '2.7.3' or newer of 'numexpr' (version '2.7.1' currently installed).\n",
      "  from pandas.core.computation.check import NUMEXPR_INSTALLED\n",
      "\n",
      "0: 768x1024 53 objects, 125.4ms\n",
      "Speed: 5.7ms preprocess, 125.4ms inference, 244.9ms postprocess per image at shape (1, 3, 1024, 1024)\n"
     ]
    }
   ],
   "source": [
    "everything_results = model(image, device=DEVICE, retina_masks=True, imgsz=1024, conf=0.4, iou=0.9)\n",
    "prompt_process = FastSAMPrompt(image, everything_results, device=DEVICE)\n",
    "results = prompt_process.get_formatted_results()"
   ]
  },
  {
   "cell_type": "code",
   "execution_count": 5,
   "metadata": {},
   "outputs": [
    {
     "name": "stdout",
     "output_type": "stream",
     "text": [
      "53\n",
      "dict_keys(['id', 'segmentation', 'bbox', 'score', 'area'])\n",
      "tensor([0.0000e+00, 4.0054e+02, 4.0320e+03, 9.9266e+02, 6.8961e-01, 0.0000e+00], device='cuda:0')\n"
     ]
    }
   ],
   "source": [
    "print(len(results))\n",
    "print(results[0].keys())\n",
    "print(results[50]['bbox'])"
   ]
  },
  {
   "cell_type": "code",
   "execution_count": null,
   "metadata": {},
   "outputs": [],
   "source": []
  },
  {
   "cell_type": "code",
   "execution_count": 6,
   "metadata": {},
   "outputs": [],
   "source": [
    "\n",
    "\n",
    "overlay_image = prompt_process.visualize_mask_results(results)\n",
    "bbox_overlay_image = prompt_process.visualize_bbox_results(results)\n",
    "# resize image down to 1/2\n",
    "resized_overlay_image = cv2.resize(overlay_image, (width//2, height//2))\n",
    "resized_image = cv2.resize(image, (width//2, height//2))\n",
    "resized_bbox_overlay_image = cv2.resize(bbox_overlay_image, (width//2, height//2))\n",
    "\n",
    "cv2.imshow(\"original\", resized_image)\n",
    "cv2.imshow(\"overlay\", resized_overlay_image)\n",
    "cv2.imshow(\"bbox_overlay\", resized_bbox_overlay_image)\n",
    "cv2.waitKey(0)\n",
    "\n",
    "\n",
    "cv2.destroyAllWindows()"
   ]
  }
 ],
 "metadata": {
  "kernelspec": {
   "display_name": "Python 3",
   "language": "python",
   "name": "python3"
  },
  "language_info": {
   "codemirror_mode": {
    "name": "ipython",
    "version": 3
   },
   "file_extension": ".py",
   "mimetype": "text/x-python",
   "name": "python",
   "nbconvert_exporter": "python",
   "pygments_lexer": "ipython3",
   "version": "3.8.10"
  }
 },
 "nbformat": 4,
 "nbformat_minor": 2
}
